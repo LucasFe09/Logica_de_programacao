{
  "nbformat": 4,
  "nbformat_minor": 0,
  "metadata": {
    "colab": {
      "provenance": [],
      "authorship_tag": "ABX9TyO4eC3zei1pta5q2y4UuNBz",
      "include_colab_link": true
    },
    "kernelspec": {
      "name": "python3",
      "display_name": "Python 3"
    },
    "language_info": {
      "name": "python"
    }
  },
  "cells": [
    {
      "cell_type": "markdown",
      "metadata": {
        "id": "view-in-github",
        "colab_type": "text"
      },
      "source": [
        "<a href=\"https://colab.research.google.com/github/LucasFe09/Logica_de_programacao/blob/main/Untitled1.ipynb\" target=\"_parent\"><img src=\"https://colab.research.google.com/assets/colab-badge.svg\" alt=\"Open In Colab\"/></a>"
      ]
    },
    {
      "cell_type": "markdown",
      "source": [
        "✅ PARTE 1 — Preparação dos dados\n",
        "\n",
        "Separe os dados de altura, peso e idade em arrays NumPy individuais (np_height, np_weight, np_age).\n",
        "\n",
        "Crie um array com os nomes dos jogadores."
      ],
      "metadata": {
        "id": "7SVJqK4kSPic"
      }
    },
    {
      "cell_type": "code",
      "execution_count": 8,
      "metadata": {
        "colab": {
          "base_uri": "https://localhost:8080/"
        },
        "collapsed": true,
        "id": "1zbFjhk7KgSV",
        "outputId": "eebb0e13-aea8-4b48-bf9c-4a73ca23b77b"
      },
      "outputs": [
        {
          "output_type": "stream",
          "name": "stdout",
          "text": [
            "[72. 75. 70. 78. 74. 69. 73. 76.]\n",
            "[180. 200. 160. 240. 190. 155. 210. 205.]\n",
            "[24 26 22 29 25 21 27 28]\n",
            "['Lucas' 'Carlos' 'Fernanda' 'João' 'Mariana' 'Beatriz' 'Diego' 'Aline']\n"
          ]
        }
      ],
      "source": [
        "import numpy as np\n",
        "\n",
        "# formato: [altura (in), peso (lb), idade, nome]\n",
        "players = [\n",
        "    [72, 180, 24, \"Lucas\"],\n",
        "    [75, 200, 26, \"Carlos\"],\n",
        "    [70, 160, 22, \"Fernanda\"],\n",
        "    [78, 240, 29, \"João\"],\n",
        "    [74, 190, 25, \"Mariana\"],\n",
        "    [69, 155, 21, \"Beatriz\"],\n",
        "    [73, 210, 27, \"Diego\"],\n",
        "    [76, 205, 28, \"Aline\"]\n",
        "]\n",
        "\n",
        "# Convertendo a lista de jogadores para um array Numpy\n",
        "players_np = np.array(players)\n",
        "\n",
        "# Separando dados em arrays individuais\n",
        "np_height = players_np[:, 0].astype(float)  # Altura está na primeira coluna (índice 0)\n",
        "np_weight = players_np[:, 1].astype(float)  # Peso está na segunda coluna (índice 1)\n",
        "np_age = players_np[:, 2].astype(int)     # Idade está na terceira coluna (índice 2)\n",
        "np_name = players_np[:, 3]    # Nomes dos jogadores estão na quarta coluna (índice 3)\n",
        "\n",
        "print(np_height)\n",
        "print(np_weight)\n",
        "print(np_age)\n",
        "print(np_name)\n"
      ]
    },
    {
      "cell_type": "markdown",
      "source": [
        "✅ PARTE 2 — Estatísticas com NumPy\n",
        "\n",
        "Calcule e imprima a altura média, mediana e desvio padrão.\n",
        "\n",
        "Calcule e imprima o peso médio e o peso mínimo.\n",
        "\n",
        "Calcule e imprima a correlação entre altura e peso."
      ],
      "metadata": {
        "id": "1sEiCJBvSF4W"
      }
    },
    {
      "cell_type": "code",
      "source": [
        "# Ensure arrays are numerical before calculations\n",
        "np_height_numeric = np_height.astype(float)\n",
        "np_weight_numeric = np_weight.astype(float)\n",
        "\n",
        "#Calcule e imprima a altura média, mediana e desvio padrão.\n",
        "altura_media = np.mean(np_height_numeric)\n",
        "mediana = np.median(np_height_numeric)\n",
        "desvio_padrao = np.std(np_height_numeric)\n",
        "\n",
        "#Calcule e imprima o peso médio e o peso mínimo.\n",
        "peso_medio = np.mean(np_weight_numeric)\n",
        "peso_minimo = np.min(np_weight_numeric)\n",
        "\n",
        "#Calcule e imprima a correlação entre altura e peso.\n",
        "correlacao = np.corrcoef(np_height_numeric, np_weight_numeric)\n",
        "\n",
        "print(f\"Altura média: {altura_media}\")\n",
        "print(f\"Altura mediana: {mediana}\")\n",
        "print(f\"Altura desvio padrão: {desvio_padrao}\")\n",
        "print(f\"Peso médio: {peso_medio}\")\n",
        "print(f\"Peso mínimo: {peso_minimo}\")\n",
        "print(f\"Correlação entre altura e peso:\\n{correlacao}\")"
      ],
      "metadata": {
        "colab": {
          "base_uri": "https://localhost:8080/"
        },
        "collapsed": true,
        "id": "IxvFfDVRSOhZ",
        "outputId": "85c621af-b125-429d-8f0c-84ac5213ba3b"
      },
      "execution_count": 9,
      "outputs": [
        {
          "output_type": "stream",
          "name": "stdout",
          "text": [
            "Altura média: 73.375\n",
            "Altura mediana: 73.5\n",
            "Altura desvio padrão: 2.8256636388643286\n",
            "Peso médio: 192.5\n",
            "Peso mínimo: 155.0\n",
            "Correlação entre altura e peso:\n",
            "[[1.         0.93222724]\n",
            " [0.93222724 1.        ]]\n"
          ]
        }
      ]
    },
    {
      "cell_type": "markdown",
      "source": [
        "✅ Parte 3 — Conversão de unidades e filtro por altura"
      ],
      "metadata": {
        "id": "p4L3e0tVYyCU"
      }
    },
    {
      "cell_type": "code",
      "source": [
        "# Converter alturas e pesos para sistema métrico\n",
        "np_height_m = np_height_numeric * 0.0254 # Converter Polegadas para Metros\n",
        "np_weight_kg = np_weight_numeric * 0.453592 # Converter Libras para Kilogramas\n",
        "\n",
        "print(np_height_m)\n",
        "print(np_weight_kg)\n",
        "# Imprimir nomes de jogadores com altura > 1.85 m\n",
        "names = players_np[:, 3]\n",
        "names[np_height_m > 1.85]\n",
        "\n",
        "print(names[np_height_m > 1.85])"
      ],
      "metadata": {
        "colab": {
          "base_uri": "https://localhost:8080/"
        },
        "collapsed": true,
        "id": "T_7pTLSBYzSH",
        "outputId": "e796b8bb-1f33-416c-bea4-56ebc0aa0e16"
      },
      "execution_count": 15,
      "outputs": [
        {
          "output_type": "stream",
          "name": "stdout",
          "text": [
            "[1.8288 1.905  1.778  1.9812 1.8796 1.7526 1.8542 1.9304]\n",
            "[ 81.64656  90.7184   72.57472 108.86208  86.18248  70.30676  95.25432\n",
            "  92.98636]\n",
            "['Carlos' 'João' 'Mariana' 'Diego' 'Aline']\n"
          ]
        }
      ]
    },
    {
      "cell_type": "markdown",
      "source": [
        "✅ PARTE 4 — String e métodos\n",
        "\n",
        "Transforme todos os nomes em maiúsculas e imprima.\n",
        "\n",
        "Conte quantas vezes a letra \"a\" aparece no nome de cada jogador."
      ],
      "metadata": {
        "id": "9XsocH6jckK-"
      }
    },
    {
      "cell_type": "code",
      "source": [
        "np.char.upper(names)\n",
        "for name in names:\n",
        "  print(name, name.count(\"a\"))"
      ],
      "metadata": {
        "colab": {
          "base_uri": "https://localhost:8080/"
        },
        "collapsed": true,
        "id": "9xhxUoolcnTh",
        "outputId": "1b25a999-422d-4b60-a6b4-7fbfee014f4b"
      },
      "execution_count": 18,
      "outputs": [
        {
          "output_type": "stream",
          "name": "stdout",
          "text": [
            "Lucas 1\n",
            "Carlos 1\n",
            "Fernanda 2\n",
            "João 0\n",
            "Mariana 3\n",
            "Beatriz 1\n",
            "Diego 0\n",
            "Aline 0\n"
          ]
        }
      ]
    },
    {
      "cell_type": "markdown",
      "source": [
        "✅ Parte 5 — Revisão e desafio final com slicing e função"
      ],
      "metadata": {
        "id": "L-P_Ps55e_QZ"
      }
    },
    {
      "cell_type": "code",
      "source": [
        "# usar slicing para acessar partes específicas da lista names.\n",
        "print(f\" Os três primeiros jogadores são: {names[: 3]}\")\n",
        "print(f\" Os três últimos jogadores são: {names[-3:]}\")\n",
        "print(f\" O jogador que está no meio da lista é: {names[len(names) // 2]}\")\n"
      ],
      "metadata": {
        "colab": {
          "base_uri": "https://localhost:8080/"
        },
        "collapsed": true,
        "id": "_dFnB79VfDYd",
        "outputId": "ba09d015-7221-49d4-ffc7-7b2af9436b0a"
      },
      "execution_count": 26,
      "outputs": [
        {
          "output_type": "stream",
          "name": "stdout",
          "text": [
            " Os três primeiros jogadores são: ['Lucas' 'Carlos' 'Fernanda']\n",
            " Os três últimos jogadores são: ['Beatriz' 'Diego' 'Aline']\n",
            " O jogador que está no meio da lista é: Mariana\n",
            "Nome: Aline\n",
            "Altura: [1.8288 1.905  1.778  1.9812 1.8796 1.7526 1.8542 1.9304] m\n",
            "Peso: [ 81.64656  90.7184   72.57472 108.86208  86.18248  70.30676  95.25432\n",
            "  92.98636] kg\n",
            "Idade: [24 26 22 29 25 21 27 28] anos\n"
          ]
        }
      ]
    },
    {
      "cell_type": "code",
      "source": [
        "# Criar uma função resumo_jogador\n",
        "\n",
        "def resumo_jogador(indice):\n",
        "  nome = names[indice]\n",
        "  altura = np_height_m[indice]\n",
        "  peso = np_weight_kg[indice]\n",
        "  idade = np_age[indice]\n",
        "\n",
        "  print(f\"Nome: {nome}\")\n",
        "  print(f\"Altura: {altura: .2f} m\")\n",
        "  print(f\"Peso: {peso: .2f} kg\")\n",
        "  print(f\"Idade: {idade} anos\")\n",
        "resumo_jogador(7)"
      ],
      "metadata": {
        "colab": {
          "base_uri": "https://localhost:8080/"
        },
        "id": "ggd_b8sPii2w",
        "outputId": "c476729b-5c10-40e1-b616-48badf197d19"
      },
      "execution_count": 33,
      "outputs": [
        {
          "output_type": "stream",
          "name": "stdout",
          "text": [
            "Nome: Aline\n",
            "Altura:  1.93 m\n",
            "Peso:  92.99 kg\n",
            "Idade: 28 anos\n"
          ]
        }
      ]
    }
  ]
}